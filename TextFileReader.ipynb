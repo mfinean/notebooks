{
 "cells": [
  {
   "cell_type": "code",
   "execution_count": 46,
   "metadata": {},
   "outputs": [
    {
     "name": "stdout",
     "output_type": "stream",
     "text": [
      "[[  1.    2.3   2.   45.    7.5   7.9]\n",
      " [  3.    5.    4.    2.    7.    8. ]\n",
      " [  8.    5.    3.    6.    5.    5. ]]\n"
     ]
    }
   ],
   "source": [
    "import numpy as np\n",
    "\n",
    "text_file = open(\"dummy_text.txt\", \"r\")\n",
    "array = []\n",
    "for x in text_file.read().strip('\\n').split('\\n'):\n",
    "    array.append(x.strip(\"]\").strip(\"[\").split(','))\n",
    "    \n",
    "array = np.array(array, dtype=float)    \n",
    "text_file.close()\n",
    "\n",
    "print array"
   ]
  },
  {
   "cell_type": "code",
   "execution_count": null,
   "metadata": {
    "collapsed": true
   },
   "outputs": [],
   "source": []
  }
 ],
 "metadata": {
  "kernelspec": {
   "display_name": "Python 2",
   "language": "python",
   "name": "python2"
  },
  "language_info": {
   "codemirror_mode": {
    "name": "ipython",
    "version": 2
   },
   "file_extension": ".py",
   "mimetype": "text/x-python",
   "name": "python",
   "nbconvert_exporter": "python",
   "pygments_lexer": "ipython2",
   "version": "2.7.14"
  }
 },
 "nbformat": 4,
 "nbformat_minor": 2
}
