{
 "cells": [
  {
   "cell_type": "markdown",
   "metadata": {},
   "source": [
    "# Plan"
   ]
  },
  {
   "cell_type": "markdown",
   "metadata": {},
   "source": [
    "Understand motion constraints\n",
    "Using IK to \n",
    "M is the n×n inertia matrix of the manipulator, C is the n×n×n Coriolis tensor,"
   ]
  },
  {
   "cell_type": "markdown",
   "metadata": {},
   "source": [
    "__Not movable__ <br/>\n",
    "base_l_drive_wheel_joint', <br/>\n",
    "'base_r_drive_wheel_joint', <br/>\n",
    "'base_roll_joint', <br/>\n",
    "'hand_l_spring_proximal_joint',<br/>\n",
    "'hand_motor_joint', <br/>\n",
    "'hand_r_spring_proximal_joint', <br/>\n",
    "\n",
    "__Moveable__ <br/>\n",
    "arm_lift_joint   0 ~ 0.69[m]         z <br/>\n",
    "arm_flex_joint   -2.617 ~ 0[rad]     -y <br/>\n",
    "arm_roll_joint   -1.919 ~ 3.665[rad] z <br/>\n",
    "wrist_flex_joint -1.919 ~ 1.221[rad] -y <br/>\n",
    "wrist_roll_joint -1.919 ~ 3.665[rad] z <br/>\n",
    "head_pan_joint   -3.839 ~ 1.745[rad] z <br/>\n",
    "head_tilt_joint  -1.570 ~ 0.523[rad] -y <br/>\n",
    "\n",
    "\n"
   ]
  },
  {
   "cell_type": "code",
   "execution_count": null,
   "metadata": {
    "collapsed": true
   },
   "outputs": [],
   "source": []
  }
 ],
 "metadata": {
  "kernelspec": {
   "display_name": "Python 2",
   "language": "python",
   "name": "python2"
  },
  "language_info": {
   "codemirror_mode": {
    "name": "ipython",
    "version": 2
   },
   "file_extension": ".py",
   "mimetype": "text/x-python",
   "name": "python",
   "nbconvert_exporter": "python",
   "pygments_lexer": "ipython2",
   "version": "2.7.14"
  }
 },
 "nbformat": 4,
 "nbformat_minor": 2
}
